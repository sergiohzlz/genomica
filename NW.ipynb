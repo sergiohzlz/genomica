{
 "cells": [
  {
   "cell_type": "code",
   "execution_count": 75,
   "metadata": {},
   "outputs": [],
   "source": [
    "import numpy as np\n",
    "from pprint import pprint"
   ]
  },
  {
   "cell_type": "markdown",
   "metadata": {},
   "source": [
    "# Needleman  - Wunsch\n",
    "\n",
    "Implementación del algoritmo NW. Los valores para gap, msm y mth se especifican a continuación.\n",
    "La matriz de comparación $\\delta$ se usará la que se presenta a continuación.\n",
    "\n",
    "| $\\delta$ | a | b |\n",
    "|-- |---- |--- |\n",
    "| a | $\\epsilon$ | $\\mu$  | \n",
    "| b | $\\mu$ | $\\epsilon$ | \n"
   ]
  },
  {
   "cell_type": "code",
   "execution_count": 97,
   "metadata": {},
   "outputs": [
    {
     "name": "stdout",
     "output_type": "stream",
     "text": [
      "2\n",
      "-1\n"
     ]
    }
   ],
   "source": [
    "mu    = -1  #mismatch\n",
    "eps   =  2  #match\n",
    "sigma = -2  #gap\n",
    "\n",
    "def delta(u,v,msm=mu,mth=eps):\n",
    "    if(u==v):\n",
    "        return mth\n",
    "    else:\n",
    "        return msm\n",
    "#ejemplo\n",
    "pprint(delta('g','g'))\n",
    "pprint(delta('g','t'))"
   ]
  },
  {
   "cell_type": "markdown",
   "metadata": {},
   "source": [
    "La matriz de scores $S$ se llena con la funcion $s_{i,j}$ como se presenta a continuación\n",
    "\n",
    "\n",
    "\n",
    "\\begin{align}\n",
    "S_{i,j} (u_i,v_j) & = \\max \\left \\{ \\begin{array} {ll}\n",
    "                                    S_{i-1,j} - \\sigma \\\\\n",
    "                                    S_{i,j-1} - \\sigma \\\\\n",
    "                                    S_{i-1,j-1} + \\delta (u_i,v_j) \\\\\n",
    "                        \\end{array} \\right .\n",
    "\\end{align}\n",
    "\n"
   ]
  },
  {
   "cell_type": "code",
   "execution_count": 98,
   "metadata": {},
   "outputs": [],
   "source": [
    "def entrada(S,i,j,V,U,mu=mu, eps=eps,sigma=sigma,delta=delta):\n",
    "    arriba    = S[i-1,  j] + sigma\n",
    "    izquierda = S[i  ,j-1] + sigma\n",
    "    u,v       = V[i-1], U[j-1]\n",
    "    valdelta  = delta(u,v, msm=mu, mth=eps)\n",
    "    match     = S[i-1,j-1] + valdelta\n",
    "    ## entrada de la matriz\n",
    "    l         = [arriba, izquierda, match]\n",
    "    ## valor de donde viene el maximo\n",
    "    mx        = max(l)\n",
    "    cod       = sum([(i+1) for i in range(len(l)) if l[i]==mx])\n",
    "    return max(l), cod\n",
    "\n"
   ]
  },
  {
   "cell_type": "markdown",
   "metadata": {},
   "source": [
    "Para esto requerimos hacer un par de matrices, a saber S y B"
   ]
  },
  {
   "cell_type": "code",
   "execution_count": 99,
   "metadata": {},
   "outputs": [
    {
     "name": "stdout",
     "output_type": "stream",
     "text": [
      "array([[0., 0., 0., 0., 0.],\n",
      "       [0., 0., 0., 0., 0.],\n",
      "       [0., 0., 0., 0., 0.],\n",
      "       [0., 0., 0., 0., 0.],\n",
      "       [0., 0., 0., 0., 0.]])\n"
     ]
    }
   ],
   "source": [
    "V = 'CTAA'  # |V| = n\n",
    "U = 'CTAA'   # |U| = m\n",
    "S = np.zeros((len(V)+1,len(U)+1))\n",
    "B = np.zeros_like(S)\n",
    "pprint(S)"
   ]
  },
  {
   "cell_type": "markdown",
   "metadata": {},
   "source": [
    "El algoritmo pide llenar la primer fila \n",
    "\n",
    "1)\n",
    "```\n",
    "for i=1..|V|\n",
    "    S[i,0] = S[i-1,0] - s\n",
    "```\n",
    "\n",
    "2)\n",
    "```\n",
    "for j=1..|V|\n",
    "    S[0,j] = S[0,j-1] - s\n",
    "```\n"
   ]
  },
  {
   "cell_type": "code",
   "execution_count": 100,
   "metadata": {},
   "outputs": [
    {
     "name": "stdout",
     "output_type": "stream",
     "text": [
      "array([[ 0., -2., -4., -6., -8.],\n",
      "       [-2.,  0.,  0.,  0.,  0.],\n",
      "       [-4.,  0.,  0.,  0.,  0.],\n",
      "       [-6.,  0.,  0.,  0.,  0.],\n",
      "       [-8.,  0.,  0.,  0.,  0.]])\n"
     ]
    }
   ],
   "source": [
    "for i in range(1,len(V)+1):\n",
    "    S[i,0] = S[i-1,0] - eps\n",
    "for j in range(1,len(U)+1):\n",
    "    S[0,j] = S[0,j-1] - eps\n",
    "pprint(S)"
   ]
  },
  {
   "cell_type": "markdown",
   "metadata": {},
   "source": [
    "Desupués rellenamos el contenido de la matriz"
   ]
  },
  {
   "cell_type": "code",
   "execution_count": 101,
   "metadata": {},
   "outputs": [],
   "source": [
    "for i in range(1,len(V)+1):\n",
    "    for j in range(1,len(U)+1):\n",
    "        S[i,j], B[i,j] = entrada(S,i,j,V,U)"
   ]
  },
  {
   "cell_type": "code",
   "execution_count": 102,
   "metadata": {},
   "outputs": [
    {
     "name": "stdout",
     "output_type": "stream",
     "text": [
      "array([[ 0., -2., -4., -6., -8.],\n",
      "       [-2.,  2.,  0., -2., -4.],\n",
      "       [-4.,  0.,  4.,  2.,  0.],\n",
      "       [-6., -2.,  2.,  6.,  4.],\n",
      "       [-8., -4.,  0.,  4.,  8.]])\n"
     ]
    }
   ],
   "source": [
    "pprint(S)"
   ]
  },
  {
   "cell_type": "code",
   "execution_count": 103,
   "metadata": {},
   "outputs": [
    {
     "name": "stdout",
     "output_type": "stream",
     "text": [
      "array([[0., 0., 0., 0., 0.],\n",
      "       [0., 3., 2., 2., 2.],\n",
      "       [0., 1., 3., 2., 2.],\n",
      "       [0., 1., 1., 3., 5.],\n",
      "       [0., 1., 1., 4., 3.]])\n"
     ]
    }
   ],
   "source": [
    "pprint(B)"
   ]
  },
  {
   "cell_type": "code",
   "execution_count": 89,
   "metadata": {},
   "outputs": [
    {
     "data": {
      "text/plain": [
       "array([0., 2., 4., 6.])"
      ]
     },
     "execution_count": 89,
     "metadata": {},
     "output_type": "execute_result"
    }
   ],
   "source": [
    "np.diag(S)"
   ]
  },
  {
   "cell_type": "code",
   "execution_count": null,
   "metadata": {},
   "outputs": [],
   "source": []
  }
 ],
 "metadata": {
  "kernelspec": {
   "display_name": "Python 3",
   "language": "python",
   "name": "python3"
  },
  "language_info": {
   "codemirror_mode": {
    "name": "ipython",
    "version": 3
   },
   "file_extension": ".py",
   "mimetype": "text/x-python",
   "name": "python",
   "nbconvert_exporter": "python",
   "pygments_lexer": "ipython3",
   "version": "3.5.2"
  }
 },
 "nbformat": 4,
 "nbformat_minor": 2
}
