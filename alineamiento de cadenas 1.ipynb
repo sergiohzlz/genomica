{
 "cells": [
  {
   "cell_type": "markdown",
   "metadata": {},
   "source": [
    "# Alineamientos y programación dinámica\n",
    "\n",
    "Para poder establecer el parecido entre dos secuencias usaremos programación dinámica aplicado a las secuencias 1 y 2.\n",
    "\n",
    "Se pueden hacer al menos dos tipos de alineamientos: globales y locales. Para ambos ocuparemos métodos basados en programación dinámica\n",
    "\n",
    "## Programación dinámica \n",
    "\n",
    "Es un método que puede aplicarse en problemas que pueden ser partidos en subproblemas, y que el costo asociado de llegar entre A y B puede ser partido en el costo de llegar de A a C y luego de C a B, cuando C está entre A y B. \n",
    "\n",
    "También es importante que los costos de los subproblemas los iremos guardando en alguna estructura de datos para onsultarlo mientas avanza el problema original.\n",
    "\n",
    "El ejemplo que vimos en clase fue el de Fibonacci, esta corresponde a: \n",
    "\n",
    "$$\n",
    "\\begin{align}\n",
    "f_0 & = 0\\\\\n",
    "f_1 & = 1\\\\\n",
    "f_n & = f_{n-2} + f_{n-1}\n",
    "\\end{align}\n",
    "$$\n",
    "\n",
    "A continuación pueden ver la implementación en su forma recursiva"
   ]
  },
  {
   "cell_type": "code",
   "execution_count": 1,
   "metadata": {},
   "outputs": [],
   "source": [
    "def fib_rec(n):\n",
    "    if(n==0):\n",
    "        return 0\n",
    "    elif(n==1):\n",
    "        return 1\n",
    "    else:\n",
    "        return fib_rec(n-2) + fib_rec(n-1)\n",
    "\n"
   ]
  },
  {
   "cell_type": "code",
   "execution_count": 2,
   "metadata": {},
   "outputs": [
    {
     "name": "stdout",
     "output_type": "stream",
     "text": [
      "21\n"
     ]
    }
   ],
   "source": [
    "print(fib_rec(8))"
   ]
  },
  {
   "cell_type": "markdown",
   "metadata": {},
   "source": [
    "Intenten la forma recursiva con $n$ grande"
   ]
  },
  {
   "cell_type": "markdown",
   "metadata": {},
   "source": [
    "Ahora vamos a usar una lista para guardar los valores ya calculados \n"
   ]
  },
  {
   "cell_type": "code",
   "execution_count": 5,
   "metadata": {},
   "outputs": [],
   "source": [
    "def fib_lista(n):\n",
    "    L = [0,1]\n",
    "    for i in range(n-1):\n",
    "        v = L[-1] + L[-2]\n",
    "        L.append(v)\n",
    "    return L[-1]\n"
   ]
  },
  {
   "cell_type": "code",
   "execution_count": 7,
   "metadata": {},
   "outputs": [
    {
     "name": "stdout",
     "output_type": "stream",
     "text": [
      "354224848179261915075\n"
     ]
    }
   ],
   "source": [
    "print(fib_lista(100))"
   ]
  },
  {
   "cell_type": "markdown",
   "metadata": {},
   "source": [
    "En la linea 4 de `fib_lista` estamos haciendo uso de los valores ya calculados y que se requieren para este paso. Hay más info en la [wiki de Fibonacci](https://es.wikipedia.org/wiki/Sucesi%C3%B3n_de_Fibonacci)"
   ]
  },
  {
   "cell_type": "markdown",
   "metadata": {},
   "source": [
    "## Similitud entre cadenas"
   ]
  },
  {
   "cell_type": "code",
   "execution_count": null,
   "metadata": {},
   "outputs": [],
   "source": []
  },
  {
   "cell_type": "markdown",
   "metadata": {},
   "source": [
    "Nuestro problema radica en que queremos comparar el parecido entre dos (o más cadenas). \n",
    "Primero consideremos el caso en el que las dos cadenas tienen el mismo tamaño con alguna diferencia, ejemplo\n",
    "\n",
    "$$ \n",
    "\\begin{align}\n",
    "c1 & = GATTACA \\\\\n",
    "c2 & = GATAACA\n",
    "\\end{align}\n",
    "$$"
   ]
  },
  {
   "cell_type": "markdown",
   "metadata": {},
   "source": [
    "¿cómo le hacemos para decir cuánto difieren?\n",
    "\n",
    "Claramente requerimos una función que tome como entrada las dos cadenas y como salida ¿qué se les ocurre?\n",
    "\n",
    "Una opción es esta función"
   ]
  },
  {
   "cell_type": "code",
   "execution_count": 9,
   "metadata": {},
   "outputs": [
    {
     "name": "stdout",
     "output_type": "stream",
     "text": [
      "1\n"
     ]
    }
   ],
   "source": [
    "def similitud(c1, c2):\n",
    "    s = 0\n",
    "    for i,j in zip(c1,c2):\n",
    "        if(i!=j):\n",
    "            s+=1\n",
    "    return s\n",
    "\n",
    "print(similitud('GATTACA','GATAACA'))"
   ]
  },
  {
   "cell_type": "markdown",
   "metadata": {},
   "source": [
    "### Preguntas\n",
    "\n",
    "1. Describe en lenguaje natural qué está haciendo esta función\n",
    "1. ¿Para qué usamos la variable s?"
   ]
  },
  {
   "cell_type": "markdown",
   "metadata": {},
   "source": [
    "## Longest Common Subsequence\n",
    "\n",
    "El problema con el método anterior es que requiere que las dos cadenas midan el mismo tamaño y esto no es biológicamente plausible. En la naturaleza hay inserciones o deleciones por lo que vamos a tener que \"editar\" alguna de las cadenas con algún símbolo que indique donde hubo un _indel_, este será el _gap_ (\"-\")\n",
    "\n",
    "Por ejemplo, queremos que nuestro algoritmo nos diga que\n",
    "\n",
    "```\n",
    "GATTACA\n",
    "GATTACA\n",
    "```\n",
    "Son idénticas. Pero también\n",
    "\n",
    "```\n",
    "GATTACA\n",
    "GATAACA\n",
    "```\n",
    "Difieren en una posición. Y qué entre `GATTACA` y `GATACA` hay que agregar un gap y cuál sería la mejor posición para esto, por decir algo:\n",
    "\n",
    "```\n",
    "GATTACA\n",
    "GAT-ACA\n",
    "```\n"
   ]
  },
  {
   "cell_type": "code",
   "execution_count": null,
   "metadata": {},
   "outputs": [],
   "source": []
  },
  {
   "cell_type": "markdown",
   "metadata": {},
   "source": [
    "En el ejemplo de clase habíamos construido una función que partía en subproblemas el problema de maximizar la cantidad de lugares interesantes por visitar, y también permitía construir una ruta que pasaba por dichos lugares. \n",
    "\n",
    "La función de score a usar era\n",
    "$$\n",
    "\\begin{align}\n",
    "\\sigma_{i,j}& = \\max \\left \\{ \\begin{array} {ll}\n",
    "                        \\sigma_{i-1,j} + w[(i-1,j), (i,j)]\\\\\n",
    "                        \\sigma_{i,j-1} + w[(i,j-1), (i,j)]\\\\\n",
    "                        \\end{array} \\right .\n",
    "\\end{align}\n",
    "$$\n",
    "\n",
    "Lo que rellena una matriz $\\Sigma = \\{\\sigma_{i,j}\\}$. E mn cada paso lo que hacemos es fijarnos en qué agrega más a la entrada $(i,j)$, si llegar de la cuadra de arriba ($\\sigma_{i-1,j} + w[(i-1,j), (i,j)]$) o de la izquierda ($\\sigma_{i,j-1} + w[(i,j-1), (i,j)]$). \n",
    "\n",
    "El algoritmo queda entonces:\n",
    "\n",
    "1. $s_{0,0} \\leftarrow 0$ _La entrada 0,0 tiene un valor de 0\n",
    "1. for $i=1..n: s_{i,0} \\leftarrow s_{i-1,0} + w_{i,0}$ #caso base: la primer columna solo acumula valores desde la celda de arriba.\n",
    "1. for $j=1..m: s_{0,j} \\leftarrow s_{0,j-1} + w_{0,j}$ #caso base: la primer fila solo va acumulando valores a la izquierda.\n",
    "1. for $i=1..n:$ \n",
    "1. `      `for $j=1..m:$\n",
    "1. `                  `$s_{i,j} \\leftarrow \\sigma_{i,j}$\n",
    "\n",
    "En todos los pasos tenemos que llenar otra matriz $D$ que indique de que celda se escribió el máximo."
   ]
  },
  {
   "cell_type": "markdown",
   "metadata": {},
   "source": [
    "Ahora, nuestro problema es muy similar. Lo que vamos a hacer es comparar una cadena ($u=u_1 u_2 \\ldots u_n$) de forma progresiva con otra ($v=v_1 v_2 \\ldots v_m$), es decir en realidad vamos a estar comparando el parecido de las dos subcadenas caracter a caracter. la s\n",
    "\n",
    "Nuestra pregunta en realidad es ¿Cómo transformo, entonces la cadenas $v=tcggaa$ en $u=caggta$?\n",
    "\n",
    "Nuestra notación ahora será $(v_i, u_j)$. El proceso para transformar v en u podría ser este:\n",
    "```\n",
    "(t,-)\n",
    "(c,c)\n",
    "(-,a)\n",
    "(g,g)\n",
    "(g,g)\n",
    "(a,t)\n",
    "(a,a)\n",
    "```\n",
    "\n",
    "Las secuencias al final pueden quedar como:\n",
    "``` \n",
    "t c - g g a a\n",
    "- c a g g t a\n",
    "```\n",
    "Para usar nuestro método de programación dinámica vamos a armar una matriz de $(n+1)\\times (m+1)$ donde $u$ quedará en la fila superior y $v$ en la columna de la izquierda, amba secuencias tendrán una posición más correspondiente al gap. En cada entrada de esta matriz tendrá el _score_ de la comparación hasta ese punto en ambas subcadenas. \n",
    "\n",
    "| x | - | c | a | g | g | t | a |\n",
    "|-- |-- |-- |-- |-- |-- |-- |-- |\n",
    "| - | \\ |   \n",
    "| t | . | | | \n",
    "| c | . | \\ |             \n",
    "| g | . | . | > | \\ |\n",
    "| g | . | . | . | . | \\|\n",
    "| a | . | . | . | . | .| \\ |\n",
    "| a | . | . | . | . | .| . | \\ |\n",
    "\n",
    "Nota importante sobre notación: \n",
    "1. ( x, - ) corresponde al escenario en el que el score máximo de $(i,j)$ se obtiene de usar el gap en la secuencia $u$\n",
    "1. ( -, y ) corresponde al escenario en el que el score máximo de $(i,j)$ se obtiene de usar el gap en la secuencia $v$ \n",
    "1. ( x, y ) corresponde al escenario en el que el score máximo de $(i,j)$ se obtiene de que comparar los simbolos en esa particular posición.\n",
    "\n",
    "De este ejemplo podemos que la subcadena `agga` es común a las dos. Por subcadena nos referimos a una cadena de caracteres cuyo orden se preserva en una cadena más grande. \n",
    "\n",
    "Pero este es un posible arreglo de varios posibles. Necesitamos un algoritmo que nos permita escoger el mejor alineamiento posilbe, para esto usaremos programación dinámica, donde el problema general es encontrar la subcadena común \"alineada\" de $u$ en $v$ agregando gaps en los \"mejores\" sitios. El subproblema que compone a este problema es encontrar la subcadena común de $u[:j]$ en $v[:i]$ (Estoy ocupando la notación de Python para indicar que vamos a comparar la subcadena $u$ hasta l posición $j$ con $v$ hasta la posición $i$.\n"
   ]
  },
  {
   "cell_type": "code",
   "execution_count": null,
   "metadata": {},
   "outputs": [],
   "source": []
  }
 ],
 "metadata": {
  "kernelspec": {
   "display_name": "Python 3",
   "language": "python",
   "name": "python3"
  },
  "language_info": {
   "codemirror_mode": {
    "name": "ipython",
    "version": 3
   },
   "file_extension": ".py",
   "mimetype": "text/x-python",
   "name": "python",
   "nbconvert_exporter": "python",
   "pygments_lexer": "ipython3",
   "version": "3.5.2"
  }
 },
 "nbformat": 4,
 "nbformat_minor": 2
}
